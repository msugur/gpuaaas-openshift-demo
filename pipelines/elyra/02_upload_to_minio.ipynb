{
 "cells": [
  {
   "cell_type": "code",
   "execution_count": null,
   "id": "c9eee74f",
   "metadata": {},
   "outputs": [],
   "source": [
    "# Step 2: Upload ONNX model to MinIO\n",
    "import boto3\n",
    "s3 = boto3.client(\n",
    "    's3',\n",
    "    endpoint_url='https://minio-api-minio.apps.cluster-fcsfq.fcsfq.sandbox1242.opentlc.com',\n",
    "    aws_access_key_id='minioadmin',\n",
    "    aws_secret_access_key='minioadmin'\n",
    ")\n",
    "s3.upload_file('your-model.onnx', 'onnx-models', 'your-model.onnx')\n",
    "print('✅ Model uploaded to MinIO.')"
   ]
  }
 ],
 "metadata": {},
 "nbformat": 4,
 "nbformat_minor": 5
}
