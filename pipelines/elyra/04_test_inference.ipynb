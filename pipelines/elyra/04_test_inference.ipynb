{
 "cells": [
  {
   "cell_type": "code",
   "execution_count": null,
   "id": "b4b65c9c",
   "metadata": {},
   "outputs": [],
   "source": [
    "# Step 4: Test Inference Endpoint\n",
    "import requests\n",
    "import json\n",
    "url = 'https://onnx-model-vllm-gpu-dsp.apps.cluster-fcsfq.fcsfq.sandbox1242.opentlc.com'\n",
    "headers = {'Content-Type': 'application/json'}\n",
    "payload = {\"instances\": [[0.1, 0.2, 0.3, 0.4]]}\n",
    "response = requests.post(url, headers=headers, data=json.dumps(payload), verify=False)\n",
    "print('✅ Response:', response.json())"
   ]
  }
 ],
 "metadata": {},
 "nbformat": 4,
 "nbformat_minor": 5
}
